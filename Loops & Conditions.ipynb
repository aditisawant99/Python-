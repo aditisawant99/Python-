{
 "cells": [
  {
   "cell_type": "markdown",
   "metadata": {},
   "source": [
    "### If...else"
   ]
  },
  {
   "cell_type": "code",
   "execution_count": 1,
   "metadata": {},
   "outputs": [
    {
     "name": "stdout",
     "output_type": "stream",
     "text": [
      "b is greater than a\n"
     ]
    }
   ],
   "source": [
    "a = 30\n",
    "b = 200\n",
    "if b > a:\n",
    "    print(\"b is greater than a\")"
   ]
  },
  {
   "cell_type": "code",
   "execution_count": 2,
   "metadata": {},
   "outputs": [
    {
     "name": "stdout",
     "output_type": "stream",
     "text": [
      "a is equal to b\n"
     ]
    }
   ],
   "source": [
    "#if...elif\n",
    "\n",
    "a = 20\n",
    "b = 20\n",
    "if a > b:\n",
    "    print(\"a is greater than b\")\n",
    "elif a == b:\n",
    "    print(\"a is equal to b\")\n"
   ]
  },
  {
   "cell_type": "code",
   "execution_count": 3,
   "metadata": {},
   "outputs": [
    {
     "name": "stdout",
     "output_type": "stream",
     "text": [
      "a is greater than b\n"
     ]
    }
   ],
   "source": [
    "#if...else or if...elif...else\n",
    "\n",
    "a=400\n",
    "b=50\n",
    "if a < b:\n",
    "    print(\"a is less than b\")\n",
    "elif a==b:\n",
    "    print(\"a is equal to b\")\n",
    "else:\n",
    "    print(\"a is greater than b\")\n",
    "\n"
   ]
  },
  {
   "cell_type": "code",
   "execution_count": 5,
   "metadata": {},
   "outputs": [
    {
     "name": "stdout",
     "output_type": "stream",
     "text": [
      "a is not less than b\n"
     ]
    }
   ],
   "source": [
    "#else without elif\n",
    "a=200\n",
    "b=90\n",
    "if a < b:\n",
    "    print(\"a is less than b\")\n",
    "else:\n",
    "    print('a is not less than b')"
   ]
  },
  {
   "cell_type": "code",
   "execution_count": 6,
   "metadata": {},
   "outputs": [
    {
     "name": "stdout",
     "output_type": "stream",
     "text": [
      "a is greater than b\n"
     ]
    }
   ],
   "source": [
    "#Short hand if\n",
    "if a > b: print('a is greater than b')"
   ]
  },
  {
   "cell_type": "code",
   "execution_count": 7,
   "metadata": {},
   "outputs": [
    {
     "name": "stdout",
     "output_type": "stream",
     "text": [
      "a\n"
     ]
    }
   ],
   "source": [
    "#short hand if... else\n",
    "a = 500\n",
    "b = 60\n",
    "print('a') if a>b else print('b')\n"
   ]
  },
  {
   "cell_type": "code",
   "execution_count": 12,
   "metadata": {},
   "outputs": [
    {
     "name": "stdout",
     "output_type": "stream",
     "text": [
      "equal\n"
     ]
    }
   ],
   "source": [
    "#One line if else statement, with 3 conditions:\n",
    "\n",
    "a = 20\n",
    "b = 20\n",
    "print('a') if a>b else print(\"equal\") if a==b else print('b') "
   ]
  },
  {
   "cell_type": "code",
   "execution_count": 13,
   "metadata": {},
   "outputs": [
    {
     "name": "stdout",
     "output_type": "stream",
     "text": [
      "both conditions are true\n"
     ]
    }
   ],
   "source": [
    "#and \n",
    "a = 200\n",
    "b = 33\n",
    "c = 500\n",
    "if a > b and c > a:\n",
    "    print(\"both conditions are true\")\n"
   ]
  },
  {
   "cell_type": "code",
   "execution_count": 14,
   "metadata": {},
   "outputs": [
    {
     "name": "stdout",
     "output_type": "stream",
     "text": [
      "Atleast one condition is true\n"
     ]
    }
   ],
   "source": [
    "#or\n",
    "a = 200\n",
    "b = 33\n",
    "c = 500\n",
    "if a > b or c > a:\n",
    "    print(\"Atleast one condition is true\")"
   ]
  },
  {
   "cell_type": "code",
   "execution_count": 17,
   "metadata": {},
   "outputs": [
    {
     "name": "stdout",
     "output_type": "stream",
     "text": [
      "a is greater than 100 \n",
      "and greater than 400\n"
     ]
    }
   ],
   "source": [
    "# Nested loops\n",
    "\n",
    "a = 500\n",
    "if a >100 :\n",
    "    print('a is greater than 100 ')\n",
    "    if a>400:\n",
    "        print('and greater than 400')\n",
    "    else:\n",
    "        print('and less than 400')"
   ]
  },
  {
   "cell_type": "code",
   "execution_count": 18,
   "metadata": {},
   "outputs": [],
   "source": [
    "# the pass statement\n",
    "\n",
    "a=20\n",
    "b=40\n",
    "\n",
    "if b > a:\n",
    "    pass"
   ]
  },
  {
   "cell_type": "markdown",
   "metadata": {},
   "source": [
    "### While Loops"
   ]
  },
  {
   "cell_type": "code",
   "execution_count": 21,
   "metadata": {},
   "outputs": [
    {
     "name": "stdout",
     "output_type": "stream",
     "text": [
      "1\n",
      "2\n",
      "3\n",
      "4\n",
      "5\n"
     ]
    }
   ],
   "source": [
    "i = 1\n",
    "while i < 6:\n",
    "    print(i)\n",
    "    i += 1"
   ]
  },
  {
   "cell_type": "code",
   "execution_count": 22,
   "metadata": {},
   "outputs": [
    {
     "name": "stdout",
     "output_type": "stream",
     "text": [
      "1\n",
      "2\n",
      "3\n"
     ]
    }
   ],
   "source": [
    "#The break statement\n",
    "#Exit the loop when i is 3:\n",
    "i = 1\n",
    "while i<6:\n",
    "    print(i)\n",
    "    if i==3:\n",
    "        break\n",
    "    i +=1"
   ]
  },
  {
   "cell_type": "code",
   "execution_count": 23,
   "metadata": {},
   "outputs": [
    {
     "name": "stdout",
     "output_type": "stream",
     "text": [
      "1\n",
      "2\n",
      "4\n",
      "5\n",
      "6\n"
     ]
    }
   ],
   "source": [
    "#The continue statement\n",
    "#Continue to the next iteration if i is 3:\n",
    "\n",
    "i = 0\n",
    "while i<6:\n",
    "    i +=1\n",
    "    if i==3:\n",
    "        continue\n",
    "    print(i)"
   ]
  },
  {
   "cell_type": "code",
   "execution_count": 24,
   "metadata": {},
   "outputs": [
    {
     "name": "stdout",
     "output_type": "stream",
     "text": [
      "1\n",
      "2\n",
      "3\n",
      "4\n",
      "5\n",
      "i is no longer less than 6\n"
     ]
    }
   ],
   "source": [
    "#the else statement\n",
    "i = 1\n",
    "while i<6:\n",
    "    print(i)\n",
    "    i+=1\n",
    "else:\n",
    "    print('i is no longer less than 6')"
   ]
  },
  {
   "cell_type": "code",
   "execution_count": null,
   "metadata": {},
   "outputs": [],
   "source": []
  },
  {
   "cell_type": "markdown",
   "metadata": {},
   "source": [
    "### For Loops"
   ]
  },
  {
   "cell_type": "code",
   "execution_count": 25,
   "metadata": {},
   "outputs": [
    {
     "name": "stdout",
     "output_type": "stream",
     "text": [
      "umbrella\n",
      "raincoat\n",
      "boots\n"
     ]
    }
   ],
   "source": [
    "monsoon = ['umbrella','raincoat','boots']\n",
    "for m in monsoon:\n",
    "    print(m)"
   ]
  },
  {
   "cell_type": "code",
   "execution_count": 26,
   "metadata": {},
   "outputs": [
    {
     "name": "stdout",
     "output_type": "stream",
     "text": [
      "c\n",
      "a\n",
      "t\n",
      "a\n",
      "s\n",
      "t\n",
      "r\n",
      "o\n",
      "p\n",
      "h\n",
      "e\n"
     ]
    }
   ],
   "source": [
    "#Looping Through a String\n",
    "#Loop through the letters in the word \"catastrophe\":\n",
    "for x in \"catastrophe\":\n",
    "    print(x)"
   ]
  },
  {
   "cell_type": "code",
   "execution_count": 27,
   "metadata": {},
   "outputs": [
    {
     "name": "stdout",
     "output_type": "stream",
     "text": [
      "umbrella\n",
      "raincoat\n"
     ]
    }
   ],
   "source": [
    "#The break Statement\n",
    "#Exit the loop when x is \"raincoat\":\n",
    "\n",
    "monsoon = ['umbrella','raincoat','boots']\n",
    "for m in monsoon:\n",
    "    print(m)\n",
    "    if m=='raincoat':\n",
    "        break"
   ]
  },
  {
   "cell_type": "code",
   "execution_count": 29,
   "metadata": {},
   "outputs": [
    {
     "name": "stdout",
     "output_type": "stream",
     "text": [
      "umbrella\n"
     ]
    }
   ],
   "source": [
    "#Exit the loop when x is \"raincoat\", but this time the break comes before the print:\n",
    "monsoon = ['umbrella','raincoat','boots']\n",
    "for m in monsoon:\n",
    "    if m=='raincoat':\n",
    "        break\n",
    "    print(m)"
   ]
  },
  {
   "cell_type": "code",
   "execution_count": 32,
   "metadata": {},
   "outputs": [
    {
     "name": "stdout",
     "output_type": "stream",
     "text": [
      "umbrella\n",
      "boots\n"
     ]
    }
   ],
   "source": [
    "#The continue Statement\n",
    "#Do not print raincoat:\n",
    "monsoon = ['umbrella','raincoat','boots']\n",
    "for m in monsoon:\n",
    "    if m=='raincoat':\n",
    "        continue\n",
    "    print(m)\n"
   ]
  },
  {
   "cell_type": "code",
   "execution_count": 34,
   "metadata": {},
   "outputs": [
    {
     "name": "stdout",
     "output_type": "stream",
     "text": [
      "0\n",
      "1\n",
      "2\n",
      "3\n",
      "4\n",
      "5\n",
      "6\n",
      "7\n",
      "8\n",
      "9\n",
      "10\n"
     ]
    }
   ],
   "source": [
    "#The range() Function\n",
    "for x in range(11):\n",
    "    print(x)"
   ]
  },
  {
   "cell_type": "code",
   "execution_count": 35,
   "metadata": {},
   "outputs": [
    {
     "name": "stdout",
     "output_type": "stream",
     "text": [
      "2\n",
      "3\n",
      "4\n",
      "5\n"
     ]
    }
   ],
   "source": [
    "for x in range(2,6):\n",
    "    print(x)"
   ]
  },
  {
   "cell_type": "code",
   "execution_count": 36,
   "metadata": {},
   "outputs": [
    {
     "name": "stdout",
     "output_type": "stream",
     "text": [
      "2\n",
      "4\n",
      "6\n",
      "8\n"
     ]
    }
   ],
   "source": [
    "for x in range(2,10,2):\n",
    "    print(x)"
   ]
  },
  {
   "cell_type": "code",
   "execution_count": 38,
   "metadata": {},
   "outputs": [
    {
     "name": "stdout",
     "output_type": "stream",
     "text": [
      "0\n",
      "1\n",
      "2\n",
      "3\n",
      "4\n",
      "done\n"
     ]
    }
   ],
   "source": [
    "#Else in For Loop\n",
    "#Print all numbers from 0 to 5, and print a message when the loop has ended:\n",
    "\n",
    "for i in range(5):\n",
    "    print(i)\n",
    "else:\n",
    "    print(\"done\")"
   ]
  },
  {
   "cell_type": "code",
   "execution_count": 39,
   "metadata": {},
   "outputs": [
    {
     "name": "stdout",
     "output_type": "stream",
     "text": [
      "0\n",
      "1\n",
      "2\n"
     ]
    }
   ],
   "source": [
    "for x in range(6):\n",
    "  if x == 3: break\n",
    "  print(x)\n",
    "else:\n",
    "  print(\"Finally finished!\")\n"
   ]
  },
  {
   "cell_type": "code",
   "execution_count": 44,
   "metadata": {},
   "outputs": [
    {
     "name": "stdout",
     "output_type": "stream",
     "text": [
      "red apple\n",
      "red watermelon\n",
      "red mango\n",
      "big apple\n",
      "big watermelon\n",
      "big mango\n",
      "tasty apple\n",
      "tasty watermelon\n",
      "tasty mango\n"
     ]
    }
   ],
   "source": [
    "#Nested Loops\n",
    "#Print each adjective for every fruit:\n",
    "\n",
    "adj = ['red','big','tasty']\n",
    "fruits = ['apple','watermelon','mango']\n",
    "\n",
    "for ad in adj:\n",
    "    for fr in fruits:\n",
    "     print(ad,fr)"
   ]
  },
  {
   "cell_type": "code",
   "execution_count": 45,
   "metadata": {},
   "outputs": [],
   "source": [
    "#The pass Statement\n",
    "for x in [0, 1, 2]:\n",
    "  pass"
   ]
  },
  {
   "cell_type": "code",
   "execution_count": null,
   "metadata": {},
   "outputs": [],
   "source": []
  },
  {
   "cell_type": "code",
   "execution_count": null,
   "metadata": {},
   "outputs": [],
   "source": []
  }
 ],
 "metadata": {
  "kernelspec": {
   "display_name": "Python 3",
   "language": "python",
   "name": "python3"
  },
  "language_info": {
   "codemirror_mode": {
    "name": "ipython",
    "version": 3
   },
   "file_extension": ".py",
   "mimetype": "text/x-python",
   "name": "python",
   "nbconvert_exporter": "python",
   "pygments_lexer": "ipython3",
   "version": "3.7.6"
  }
 },
 "nbformat": 4,
 "nbformat_minor": 4
}
