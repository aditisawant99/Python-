{
 "cells": [
  {
   "cell_type": "markdown",
   "metadata": {},
   "source": [
    "###### Define a list of 25 colours. Count the number of 'red's in the list."
   ]
  },
  {
   "cell_type": "code",
   "execution_count": 5,
   "metadata": {},
   "outputs": [
    {
     "name": "stdout",
     "output_type": "stream",
     "text": [
      "6\n"
     ]
    }
   ],
   "source": [
    "colours = ['white','red','black','pink','red','blue','red','white','black','black',\n",
    "          'white','red','black','pink','red','blue','red','white','black','black']\n",
    "r='red'\n",
    "red_count = colours.count(r)\n",
    "print(red_count)"
   ]
  },
  {
   "cell_type": "markdown",
   "metadata": {},
   "source": [
    "##### Define a list of 10 numbers. Calculate mean, median and mode for the same."
   ]
  },
  {
   "cell_type": "markdown",
   "metadata": {},
   "source": [
    "###### a) without using any library\n"
   ]
  },
  {
   "cell_type": "markdown",
   "metadata": {},
   "source": [
    "###### Mean"
   ]
  },
  {
   "cell_type": "code",
   "execution_count": 28,
   "metadata": {},
   "outputs": [
    {
     "name": "stdout",
     "output_type": "stream",
     "text": [
      "Number of elements in the list is 10\n",
      "Sum of the numbers in the list is 120\n",
      "Mean of the numbers in the list is 12.0\n"
     ]
    }
   ],
   "source": [
    "numbers_list = [12,13,14,9,10,11,12,12,13,14]\n",
    "#to find the number of elements in the list\n",
    "n = len(numbers_list) \n",
    "print(\"Number of elements in the list is \" + str(n))\n",
    "\n",
    "#to calculate the sum of the numbers\n",
    "s = sum(numbers_list)\n",
    "print(\"Sum of the numbers in the list is \" + str(s))\n",
    "\n",
    "mean = s/n\n",
    "print(\"Mean of the numbers in the list is \" + str(mean))"
   ]
  },
  {
   "cell_type": "markdown",
   "metadata": {},
   "source": [
    "###### Median"
   ]
  },
  {
   "cell_type": "code",
   "execution_count": 30,
   "metadata": {},
   "outputs": [
    {
     "name": "stdout",
     "output_type": "stream",
     "text": [
      "Median is: 12.0\n"
     ]
    }
   ],
   "source": [
    "numbers_list = [12,13,14,9,10,11,12,12,13,14]\n",
    "n = len(numbers_list)\n",
    "\n",
    "#to arrange the numbers in ascending order\n",
    "numbers_list.sort()           #9 10 11 12 12 12 13 13 14 14\n",
    "                            #  0  1  2  3  4  5  6  7  8  9 \n",
    "\n",
    "#if the number of elements are even and if they are odd\n",
    "if n%2 == 0:                            #even\n",
    "    median1 = numbers_list[n//2]        #extracts the 10//2 = index 5 element = 12 (6th element) \n",
    "    median2 = numbers_list[n//2 - 1]    #extracts the 10//2 - 1 = index 4 element = 12 (5th element)\n",
    "    median = (median1 + median2)/2      # (12+12)/2 = 12\n",
    "else:                                   #odd\n",
    "    median = numbers_list[n//2]         # for eg, if there were 11 elements, 11/2 = 5.5, floor division(//) rounds down to the\n",
    "                                        # nearest integer. 11//2 = index 5 element (6th element)\n",
    "print(\"Median is: \" + str(median))\n",
    "    \n",
    "    \n"
   ]
  },
  {
   "cell_type": "markdown",
   "metadata": {},
   "source": [
    "###### Mode"
   ]
  },
  {
   "cell_type": "code",
   "execution_count": 37,
   "metadata": {},
   "outputs": [
    {
     "name": "stdout",
     "output_type": "stream",
     "text": [
      "[1, 1, 1, 3, 3, 3, 2, 2, 2, 2]\n",
      "Dictionary : {9: 1, 10: 1, 11: 1, 12: 3, 13: 2, 14: 2}\n",
      "Mode(s) is/are: {12}\n"
     ]
    }
   ],
   "source": [
    "numbers_list = [12,13,14,9,10,11,12,12,13,14]\n",
    "\n",
    "numbers_list.sort()  # [9,10,11,12,12,12,13,13,14,14]\n",
    "\n",
    "#open an empty list\n",
    "#count the number of occurence of each number and append to freq\n",
    "freq = []\n",
    "\n",
    "#iterate through the sorted list of numbers in the list counting the occurence of each number \n",
    "index = 0                        #iniate \n",
    "while index<len(numbers_list):   # i < 10 i.e. index 0,1,2,3,4,5,6,7,8,9 \n",
    "    freq.append(numbers_list.count(numbers_list[index]))\n",
    "    index += 1 #increment\n",
    "\n",
    "# for eg, for index = 0, numbers_list[0] --> 9, numbers_list.count(numbers_list[0]) --> numbers_list.count(9) = 1\n",
    "#similarly for index = 1, numbers_list[1] --> 10, numbers_list.count(10) = 1\n",
    "#for index = 2, numbers_list.count(11) = 1 and so on.\n",
    "\n",
    "\n",
    "print(freq)\n",
    "\n",
    "#now, create a custom dictionary d1 for key:value\n",
    "#where key = values in sorted numbers_list and value = values in freq\n",
    "d1 = dict(zip(numbers_list, freq))\n",
    "print(\"Dictionary : \" + str(d1))\n",
    "\n",
    "#filter the keys with the highest values i.e. numbers in the list with maximum frequencies\n",
    "d2 = {key for (key,value) in d1.items() if value == max(freq)}\n",
    "print(\"Mode(s) is/are: \" + str(d2))"
   ]
  },
  {
   "cell_type": "markdown",
   "metadata": {},
   "source": [
    "###### Using libraries"
   ]
  },
  {
   "cell_type": "code",
   "execution_count": 38,
   "metadata": {},
   "outputs": [],
   "source": [
    "import numpy as np"
   ]
  },
  {
   "cell_type": "markdown",
   "metadata": {},
   "source": [
    "###### Mean"
   ]
  },
  {
   "cell_type": "code",
   "execution_count": 41,
   "metadata": {},
   "outputs": [
    {
     "name": "stdout",
     "output_type": "stream",
     "text": [
      "Mean is 12.0\n"
     ]
    }
   ],
   "source": [
    "numbers_list = [12,13,14,9,10,11,12,12,13,14]\n",
    "mean = np.mean(numbers_list)\n",
    "print(\"Mean is \" + str(mean))"
   ]
  },
  {
   "cell_type": "markdown",
   "metadata": {},
   "source": [
    "###### Median"
   ]
  },
  {
   "cell_type": "code",
   "execution_count": 42,
   "metadata": {},
   "outputs": [
    {
     "name": "stdout",
     "output_type": "stream",
     "text": [
      "Median is 12.0\n"
     ]
    }
   ],
   "source": [
    "numbers_list = [12,13,14,9,10,11,12,12,13,14]\n",
    "median = np.median(numbers_list)\n",
    "print(\"Median is \"+str(median))"
   ]
  },
  {
   "cell_type": "markdown",
   "metadata": {},
   "source": [
    "###### Mode"
   ]
  },
  {
   "cell_type": "code",
   "execution_count": 45,
   "metadata": {},
   "outputs": [],
   "source": [
    "from scipy import stats"
   ]
  },
  {
   "cell_type": "code",
   "execution_count": 48,
   "metadata": {},
   "outputs": [
    {
     "name": "stdout",
     "output_type": "stream",
     "text": [
      "ModeResult(mode=array([12]), count=array([3]))\n"
     ]
    }
   ],
   "source": [
    "numbers_list = [12,13,14,9,10,11,12,12,13,14]\n",
    "mode = stats.mode(numbers_list)\n",
    "print(mode)"
   ]
  },
  {
   "cell_type": "code",
   "execution_count": null,
   "metadata": {},
   "outputs": [],
   "source": []
  }
 ],
 "metadata": {
  "kernelspec": {
   "display_name": "Python 3",
   "language": "python",
   "name": "python3"
  },
  "language_info": {
   "codemirror_mode": {
    "name": "ipython",
    "version": 3
   },
   "file_extension": ".py",
   "mimetype": "text/x-python",
   "name": "python",
   "nbconvert_exporter": "python",
   "pygments_lexer": "ipython3",
   "version": "3.7.6"
  }
 },
 "nbformat": 4,
 "nbformat_minor": 4
}
